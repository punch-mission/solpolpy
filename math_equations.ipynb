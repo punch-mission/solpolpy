{
 "cells": [
  {
   "cell_type": "code",
   "execution_count": 8,
   "id": "75d083e2",
   "metadata": {},
   "outputs": [],
   "source": [
    "\"\"\"Docstring for the math_equations.py module.\n",
    "\n",
    "Created by Bryce M. Walbridge on 6/02/2022.\n",
    "\n",
    "The module explored definitions of math equation illistrated by the article, \n",
    "Three-polarizer Treatment of Linear Polarization in Coronagraphs and \n",
    "Heliospheric Imagers by Craig E. DeForester, Daniel B. Seaton, and \n",
    "Matthew J. West. The overall goal is to convert values from three polarized \n",
    "images (B, pB pB') or Stokes (I, Q, U) representations of linear\n",
    "polarization from polarizer triplet data. This based on the formulae proposed\n",
    "in this article.\n",
    "\n",
    "\"\"\"\n",
    "\n",
    "import math \n",
    "import numpy as np \n",
    "import pytest"
   ]
  },
  {
   "cell_type": "code",
   "execution_count": 14,
   "id": "ed549fd5",
   "metadata": {
    "scrolled": true
   },
   "outputs": [
    {
     "name": "stdout",
     "output_type": "stream",
     "text": [
      "B_tangential = 4.0\n",
      "B_radial = 0.0\n"
     ]
    }
   ],
   "source": [
    "\n",
    "# B = np.array(int(input(\"Enter value for B:\")))\n",
    "# pB = np.array(int(input(\"Enter value for pB:\")))\n",
    "\n",
    "def radial_radiance(B, pB):\n",
    "    '''Converts unpolarized brightness,`B`, and Coronal polarized brightness, \n",
    "     `pB`, into radial radiance.\n",
    "    \n",
    "    This function takes in two vars of `B`, Unpolarized brightness, and \n",
    "    `pB`,Coronal polarized brightness. \n",
    "    \n",
    "    Parameters\n",
    "    ----------\n",
    "    B : np.ndarray \n",
    "    pB : np.ndarray\n",
    "    \n",
    "    Returns\n",
    "    -------\n",
    "    float\n",
    "        The float that is returned is defined to be var `B_radial`.\n",
    "        \n",
    "    Raises\n",
    "    ------\n",
    "    check shapes match.\n",
    "    '''\n",
    "    if B.shape != pB.shape:\n",
    "        raise ValueError(f'B and pB shapes do not match. ' \n",
    "                         f'B.shape = {B.shape}. pB.shape = {pB.shape}') \n",
    "    \n",
    "    B_radial = (B - pB)/2\n",
    "    return B_radial\n",
    "    \n",
    "\n",
    "def tangential_radiance(B, pB):\n",
    "    \n",
    "    '''Converts unpolarized brightness,`B`, and Coronal polarized brightness, \n",
    "     `pB`, into tangential radiance.\n",
    "    \n",
    "    This function takes in two vars of `B`, Unpolarized brightness, and \n",
    "    `pB`,Coronal polarized brightness. \n",
    "    \n",
    "    Parameters\n",
    "    ----------\n",
    "    B : array_like\n",
    "    pB : array_like\n",
    "    \n",
    "    Returns\n",
    "    -------\n",
    "    type\n",
    "        Returns a float.\n",
    "    describe : type\n",
    "        A float is nessary to be used later within more precise calculations \n",
    "        with numpy.\n",
    "    out : type\n",
    "        The float that is returned is defined to be var `B_tangential`\n",
    "        \n",
    "    Raises\n",
    "    ------\n",
    "    \n",
    "    '''\n",
    "    B_tangential = (B + pB)/2\n",
    "    return B_tangential\n",
    "\n",
    "#setting the varibles to the calculated result from the definitions\n",
    "#printing the new vars out\n",
    "B_tangential = tangential_radiance(B, pB)\n",
    "B_radial = radial_radiance(B, pB)\n",
    "print(\"B_tangential =\", B_tangential)\n",
    "print(\"B_radial =\", B_radial)"
   ]
  },
  {
   "cell_type": "code",
   "execution_count": 40,
   "id": "91f8255b",
   "metadata": {},
   "outputs": [
    {
     "name": "stdout",
     "output_type": "stream",
     "text": [
      "8.0\n",
      "4.0\n",
      "B = 4.0\n",
      "pB = 8.0\n"
     ]
    }
   ],
   "source": [
    "#definiton for inverse function\n",
    "def inverse_of_radial_tangental_radiance(B_tangential, B_radial):\n",
    "    pB = B_tangential - B_radial\n",
    "    B = B_tangential + B_radial\n",
    "    print(pB)\n",
    "    print(B)\n",
    "    return pB, B\n",
    "pB, B = inverse_of_radial_tangental_radiance(B_tangential, B_radial)\n",
    "print(\"B =\", B)\n",
    "print(\"pB =\", pB)"
   ]
  },
  {
   "cell_type": "code",
   "execution_count": 12,
   "id": "8fdb042c",
   "metadata": {},
   "outputs": [
    {
     "name": "stdout",
     "output_type": "stream",
     "text": [
      "Enter value for theta:0\n",
      "Enter value for alpha:2\n",
      "B_theta = 6.575505346045284\n"
     ]
    }
   ],
   "source": [
    "#definition for electric feild amplitude \n",
    "theta = int(input(\"Enter value for theta:\"))\n",
    "alpha = int(input(\"Enter value for alpha:\"))\n",
    "def B_theta(theta, alpha, B_r, B_t):\n",
    "    B_theta = B_t*(np.sin(theta - alpha))**2 + B_r*(np.cos(theta - alpha))**2\n",
    "    return B_theta\n",
    "B_theta = B_theta(theta, alpha, B_r, B_t)\n",
    "print(\"B_theta =\", B_theta)"
   ]
  },
  {
   "cell_type": "code",
   "execution_count": 13,
   "id": "87eca4d7",
   "metadata": {},
   "outputs": [
    {
     "name": "stdout",
     "output_type": "stream",
     "text": [
      "pB = 14.0\n"
     ]
    }
   ],
   "source": [
    "# B_theta = int(input(\"Enter value for B_theta:\"))\n",
    "# theta = int(input(\"Enter value for theta:\"))\n",
    "# alpha = int(input(\"Enter value for alpha:\"))\n",
    "\n",
    "#definition for geting pB with theta and alpha and B_theta\n",
    "def pB(B, B_theta, theta, alpha):\n",
    "    pB = (B-2*B_theta)/ np.cos(2*(theta - alpha))\n",
    "    return pB\n",
    "\n",
    "pB = pB(B, B_theta, theta, alpha)\n",
    "print (\"pB =\", pB)"
   ]
  },
  {
   "cell_type": "code",
   "execution_count": 17,
   "id": "808648d2",
   "metadata": {},
   "outputs": [],
   "source": [
    "a1 = np.array([3,2,4])\n",
    "a2 = np.array([2,3,1])"
   ]
  },
  {
   "cell_type": "code",
   "execution_count": 18,
   "id": "f887de98",
   "metadata": {},
   "outputs": [
    {
     "data": {
      "text/plain": [
       "array([ 0.5, -0.5,  1.5])"
      ]
     },
     "execution_count": 18,
     "metadata": {},
     "output_type": "execute_result"
    }
   ],
   "source": [
    "radial_radiance(a1, a2)"
   ]
  },
  {
   "cell_type": "code",
   "execution_count": null,
   "id": "aa4b278e",
   "metadata": {},
   "outputs": [],
   "source": []
  }
 ],
 "metadata": {
  "kernelspec": {
   "display_name": "Python 3 (ipykernel)",
   "language": "python",
   "name": "python3"
  },
  "language_info": {
   "codemirror_mode": {
    "name": "ipython",
    "version": 3
   },
   "file_extension": ".py",
   "mimetype": "text/x-python",
   "name": "python",
   "nbconvert_exporter": "python",
   "pygments_lexer": "ipython3",
   "version": "3.9.12"
  }
 },
 "nbformat": 4,
 "nbformat_minor": 5
}
